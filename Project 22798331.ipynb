{
 "cells": [
  {
   "cell_type": "markdown",
   "metadata": {},
   "source": [
    "# SI 224: Movie Search"
   ]
  },
  {
   "cell_type": "markdown",
   "metadata": {},
   "source": [
    "#### Sarah Ri Ingram - 22798331 "
   ]
  },
  {
   "cell_type": "markdown",
   "metadata": {},
   "source": [
    "## RESTful API:"
   ]
  },
  {
   "cell_type": "markdown",
   "metadata": {},
   "source": [
    "A RESTful (Representational State Transfer) API (Application Program Interface) is a style in which an API is created so that a program can manipulate data that is stored on a web server. The developer creates the API which allows for users to contact the server and use HTTP (HyperText Transfer Protocol) to request the use of data on the web server. The Representational State dictates how the API operates within a certain set of rules and allows for the use of the server's data when accessed through a URL, this is called a request. Each request must contain all necessary information for data collection, otherwise the data cannot be accessed. The use of a RESTful API therefore is completely relient on the user for successful use. RESTful APIs allows for efficient communication between two programs (eg: OMDB API and python), mostly in the form of obtaining information, making changes to data, posting requests, and deleting information. One of the two programs in the RESTful API are normally a cloud-based service and so the information is stored on the world wide web, this is because RESTful APIs are stateless and so are fully scalable.\n",
    "\n",
    "Design requirements necessary in RESTful APIs:\n",
    "- stateless (information is not retained while moving throughout the server and so the API is flexible and scalable)\n",
    "- layered servers (REST should allow for the layering of different servers to form one API)\n",
    "- client-server interactions (requests are made by the client and performed on the server)\n",
    "- identifiable through a uniformed interface (eg: a singular URL)\n",
    "\n",
    "Common problems with RESTful APIs:\n",
    "- security (servers are made more vulnerable due to external users)\n",
    "- authentication (the use of keys for access can combat this problem)\n",
    "- data and request discrepencies (there may be too much data for one request or too many requests for the data)"
   ]
  },
  {
   "cell_type": "markdown",
   "metadata": {},
   "source": [
    "## OMDB API:"
   ]
  },
  {
   "cell_type": "markdown",
   "metadata": {},
   "source": [
    "The OMDB API is a RESTful web server which stores information about hundreds of movies and series. The API allows for queries within the information stored on the server so that rich information can be gathered with minimal effort and in a short amount of time. The OMDB API allows a program to obtain information from the IMDB online server and allows interactions between users and the server to occur through the use of an API key.\n",
    "\n",
    "The OMDB API uses a python wrapper in order to allow access from a python programming. This is imported (shown in the first line of code below) to the program and allows for multiple functions that can help make the fecthing of data easier. The below example of 'omdb.get()' shows the API's functionality and all possible information that is stored in the server and that can be accessed by the user. Other functions offered by the API include:\n",
    "- search()\n",
    "- imdbid()\n",
    "- search_series()\n",
    "- search_movie() \n",
    "\n",
    "In order to use the library, the program must contain 'omdb.' + function (as listed above) and the user's information to search by, this is the title or IMDB ID. EG: 'omdb.get()'. Each function will have their own parameters which need to be fulfilled in order to work and pull the correct information from the server. This is shows below with the title, year, fullplot and tomatoes parameters within 'omdb.get()'."
   ]
  },
  {
   "cell_type": "code",
   "execution_count": 36,
   "metadata": {},
   "outputs": [
    {
     "name": "stdout",
     "output_type": "stream",
     "text": [
      "\n"
     ]
    },
    {
     "data": {
      "text/plain": [
       "{'title': 'Avengers: Endgame',\n",
       " 'year': '2019',\n",
       " 'rated': 'PG-13',\n",
       " 'released': '26 Apr 2019',\n",
       " 'runtime': '181 min',\n",
       " 'genre': 'Action, Adventure, Drama, Sci-Fi',\n",
       " 'director': 'Anthony Russo, Joe Russo',\n",
       " 'writer': 'Christopher Markus (screenplay by), Stephen McFeely (screenplay by), Stan Lee (based on the Marvel comics by), Jack Kirby (based on the Marvel comics by), Joe Simon (Captain America created by), Jack Kirby (Captain America created by), Steve Englehart (Star-Lord created by), Steve Gan (Star-Lord created by), Bill Mantlo (Rocket Raccoon created by), Keith Giffen (Rocket Raccoon created by), Jim Starlin (Thanos,  Gamora & Drax created by), Stan Lee (Groot created by), Larry Lieber (Groot created by), Jack Kirby (Groot created by), Steve Englehart (Mantis created by), Don Heck (Mantis created by)',\n",
       " 'actors': 'Robert Downey Jr., Chris Evans, Mark Ruffalo, Chris Hemsworth',\n",
       " 'plot': \"After the devastating events of Avengers: Infinity War (2018), the universe is in ruins. With the help of remaining allies, the Avengers assemble once more in order to reverse Thanos' actions and restore balance to the universe.\",\n",
       " 'language': 'English, Japanese, Xhosa, German',\n",
       " 'country': 'USA',\n",
       " 'awards': 'Nominated for 1 Oscar. Another 69 wins & 112 nominations.',\n",
       " 'poster': 'https://m.media-amazon.com/images/M/MV5BMTc5MDE2ODcwNV5BMl5BanBnXkFtZTgwMzI2NzQ2NzM@._V1_SX300.jpg',\n",
       " 'ratings': [{'source': 'Internet Movie Database', 'value': '8.4/10'},\n",
       "  {'source': 'Rotten Tomatoes', 'value': '94%'},\n",
       "  {'source': 'Metacritic', 'value': '78/100'}],\n",
       " 'metascore': '78',\n",
       " 'imdb_rating': '8.4',\n",
       " 'imdb_votes': '872,774',\n",
       " 'imdb_id': 'tt4154796',\n",
       " 'type': 'movie',\n",
       " 'tomato_meter': 'N/A',\n",
       " 'tomato_image': 'N/A',\n",
       " 'tomato_rating': 'N/A',\n",
       " 'tomato_reviews': 'N/A',\n",
       " 'tomato_fresh': 'N/A',\n",
       " 'tomato_rotten': 'N/A',\n",
       " 'tomato_consensus': 'N/A',\n",
       " 'tomato_user_meter': 'N/A',\n",
       " 'tomato_user_rating': 'N/A',\n",
       " 'tomato_user_reviews': 'N/A',\n",
       " 'tomato_url': 'https://www.rottentomatoes.com/m/the_avengers_3_infinity_war_part_2/',\n",
       " 'dvd': '30 Jul 2019',\n",
       " 'box_office': '$858,373,000',\n",
       " 'production': 'Marvel Studios, Walt Disney Pictures',\n",
       " 'website': 'N/A',\n",
       " 'response': 'True'}"
      ]
     },
     "execution_count": 36,
     "metadata": {},
     "output_type": "execute_result"
    }
   ],
   "source": [
    "import omdb\n",
    "omdb.get(title = 'Avengers: Endgame', year = 2019, fullplot = True, tomatoes = True)"
   ]
  },
  {
   "cell_type": "markdown",
   "metadata": {},
   "source": [
    "In order to access this API, a key is needed, this key allows the server to identify clients and respond according to their level of access within the server. This key allows purely for the fecthing of data under different titles, namely Title of movies, series, episodes and the IMDB key. Below shows the code for allocating the key to the user so that the user can access the server. The 'set_default()' has been put inside a try/except statement as it will easily cause errors in the program and not allow the user to use the program. With the exception, the error is shown clearly to the user."
   ]
  },
  {
   "cell_type": "code",
   "execution_count": null,
   "metadata": {},
   "outputs": [],
   "source": [
    "try:\n",
    "    omdb.set_default('apikey', '8d75ab28')\n",
    "except:\n",
    "    print(\"Error: invalid API key\")"
   ]
  },
  {
   "cell_type": "markdown",
   "metadata": {},
   "source": [
    "# My program:"
   ]
  },
  {
   "cell_type": "markdown",
   "metadata": {},
   "source": [
    "### The challenge: "
   ]
  },
  {
   "cell_type": "markdown",
   "metadata": {},
   "source": [
    "The challenge posed was to use the OMDBAPI to fetch data from the IMDB server and to write this information to a textfile according to the selection that was made by the client/user. The program must fetch the data using the title which is given by the user. The data which must be returned includes: if the movie exists, name, genre, release date, runtime, director and awards.\n",
    "\n",
    "The program must also store previously searched movies in a text file and be able to fetch the corresponding information on command. "
   ]
  },
  {
   "cell_type": "markdown",
   "metadata": {},
   "source": [
    "### Goals: "
   ]
  },
  {
   "cell_type": "markdown",
   "metadata": {},
   "source": [
    "My overall goal for the code was to make a comprehensive program which touched on all areas of the SI 224 module, while still maintaining user approachability and usability at the forefront of this program. When programming, I kept usability in mind and tried to keep the program appealing to everyday users. After I was done with my program, I let some programming-inexperienced peers try it and made any changes to pieces of my code that they struggled with. With the information fetched from the server, I wanted to have as many avenues to fetch the data as possible, instead of just the title of the movie. I also want the program to be as program heavy as the user wishes, therefore making the program somewhat different to each user that uses it."
   ]
  },
  {
   "cell_type": "markdown",
   "metadata": {},
   "source": [
    "### Logic and interactions:"
   ]
  },
  {
   "cell_type": "markdown",
   "metadata": {},
   "source": [
    "Welcome():\n",
    "\n",
    "I use the 'welcome()' function as a semi-basis from which the program will run. I used functions 'new()' and 'old()' to shorten the length of the 'welcome()' function to increase readability and to avoid repetitions within the program. In the 'welcome()' function the code reads through the 'history.txt' text file and assesses if it has previous search history as well as searching for the titles of previous searches using regular expressions. Depending on the user input, the 'welcome()' function then called the 'new()' or 'old()' function.\n",
    "\n",
    "New():\n",
    "\n",
    "The 'new()' function is called by 'welcome()' when the user indicates that they want to make a new search and not one saved in 'history.txt'. I also root in options of choice that the user wishes to make their search from, this includes searching from title, IMDB ID number, and series. These options are highlighted by '#choosing searching technique'. The 'awar()' and 'rat()' functions are called, which allow the user to have more control over the information that they view. When the user makes a choice for searching, the corresponding function is then called from 'new()'. These functions are named 'ti_tle()' and 'i_d()' and pass the relevant information that need to be used for the searching. \n",
    "\n",
    "Old():\n",
    "\n",
    "The 'old()' function is called by 'welcome()' when the user indicates that they want to make an old search which is saved in 'history.txt'. 'Old()' reads through 'hisotry.txt' and appends the titles of pervious selections into a list. This was so that the list can be called upon for the user's selection of which information they would like to view. Once the selection has been made, the program prints all necessary information. The 'old()' function then returns to the 'welcome()' function where  the 'again()' function is called.\n",
    "\n",
    "Awar():\n",
    "\n",
    "The 'awar()' function asks the user whether or not they want to view the awards won by their selection. This keeps the information closer to what the user is looking for and prevents overcomplication. When the user makes their decision, it is passed on to other functions through the 'new()' function. If the user indicates that they do not want to view the extra information, it is not saved to the text file 'history.txt'.\n",
    "\n",
    "Rat():\n",
    "\n",
    "The 'rat()' function asks the user whether or not they want to view the ratings of their selection. This keeps the information closer to what the user is looking for and prevents overcomplication. When the user makes their decision, it is passed on to other functions through the 'new()' function. If the user indicates that they do not want to view the extra information, it is not saved to the text file 'history.txt'.\n",
    "\n",
    "I_d():\n",
    "\n",
    "'i_d()' takes variables 'choice, award, rating, and old_file' from 'new()'. 'title()' searches for the user's choice. Once the choice is found, it passes the necessary information on to the 'prnt()' function.\n",
    "\n",
    "\n",
    "Ti_tle():\n",
    "\n",
    "'ti_tle()' takes variables 'choice, award, rating, series, movie and old_file' from 'new()'. 'title()' searches for the user's choice and stores it in 'is_there'. This function is also able to handle if there is more than one title that meets the search criteria and if the search criteria does not come up with any results. The 'prnt()' function is then called from the 'ti_tle()' function. \n",
    "\n",
    "Prnt():\n",
    "\n",
    "The 'prnt()' function prints all required information that is needed by the user, this includes general information as well as if the user requested the awards and ratings information, this is done by using if statements. Once all the information is displayed to the user, it is written into the text file 'history.txt' and the function then calls the 'post(), 'review()' and 'again()' functions.\n",
    "\n",
    "Review():\n",
    "\n",
    "The 'review()' function opens 'history.txt' in the append function and gives the user an option to leave their own reviews which will then be added to the information saved to 'history.txt'. This new review will then be able to be accessed when accessing old searches under User review.\n",
    "\n",
    "Again():\n",
    "\n",
    "The 'again()' function asks the user if they wish to make another search. If the user indicates yes then the 'welcome()' function is called again. If the user indicates no then the program is exited.\n",
    "\n",
    "Post():\n",
    "\n",
    "The 'post()' function saves the poster of the selection as a jpg image in the user's folder in which the program is operating. It is called by the 'prnt()' function and returns back to it after it is finished."
   ]
  },
  {
   "cell_type": "markdown",
   "metadata": {},
   "source": [
    "### Program functioning: "
   ]
  },
  {
   "cell_type": "markdown",
   "metadata": {},
   "source": [
    "The program is designed to prevent crashing if the user inputs incorrect data or values when prompted. Each input is protected by if/else and try/except statements so that if the input is unacceptable, the program gives the user another chance to input correctly. When prompted, the user is required to input an answer that corresponds to the criteria given before and during the prompt for an input. Inputs are not case dependent. The program saves user inputs and then uses it to conduct its processing."
   ]
  },
  {
   "cell_type": "code",
   "execution_count": null,
   "metadata": {},
   "outputs": [],
   "source": [
    "#exerpt from 'welcome()'\n",
    "selec = input(\"Would you like to search for a new title or one that you have previously searched? State: New or Old\")\n",
    "#the user is required to input New or Old in order for the program to continue"
   ]
  },
  {
   "cell_type": "markdown",
   "metadata": {},
   "source": [
    "The user should run the code and follow the prompts in order to accurately use the program. Running can be done by pressing control and enter on the keyboard or by clicking the run button at the top of the screen. To input a response, the user should type their answer into the input box and press enter, the answer should correspind to the prompt given before or with the input box."
   ]
  },
  {
   "cell_type": "markdown",
   "metadata": {},
   "source": [
    "Below are the libraries used in the program as well as examples taken from the program. These libraries are imported into the program in order for the code to access it. The omdb library allows for the functions that are linked to the OMDB server  to allow for information to be obtained from the database. The re library allows for the use of regular expressions in the program. Regaular expressions allow for a narrow search through text files and strings by making parameters for information needed as well as information that can vary. The urllib.request library is used in the 'post()' function in order to save the movie poster as a jpg image in the folder in which the program operates."
   ]
  },
  {
   "cell_type": "code",
   "execution_count": null,
   "metadata": {},
   "outputs": [],
   "source": [
    "import omdb\n",
    "    is_there = omdb.search_movie(select)\n",
    "import re\n",
    "    x = re.findall('^Title:.*', d)\n",
    "import urllib.request\n",
    "    urllib.request.urlretrieve(ur, \"moviesearch.jpg\")"
   ]
  },
  {
   "cell_type": "markdown",
   "metadata": {},
   "source": [
    "Below I have inserted the API functionality that I used in my project. This includes '.search_movie()', '.search_series()', '.search()' amd '.imdbid()'. '.search_movie()' searches through all movies in the IMDB server and requires the title or some of the title to be able to run and get the required information"
   ]
  },
  {
   "cell_type": "code",
   "execution_count": 3,
   "metadata": {},
   "outputs": [
    {
     "data": {
      "text/plain": [
       "[{'title': 'I Care a Lot',\n",
       "  'year': '2020',\n",
       "  'imdb_id': 'tt9893250',\n",
       "  'type': 'movie',\n",
       "  'poster': 'https://m.media-amazon.com/images/M/MV5BYWU2ZTRhNDMtMWYxMC00ZTVkLThjZmItZGY4MGU0YmZlMjJlXkEyXkFqcGdeQXVyMTkxNjUyNQ@@._V1_SX300.jpg'}]"
      ]
     },
     "execution_count": 3,
     "metadata": {},
     "output_type": "execute_result"
    }
   ],
   "source": [
    "import omdb\n",
    "try:\n",
    "    omdb.set_default('apikey', '8d75ab28')\n",
    "except:\n",
    "    print(\"Error: invalid API key\")\n",
    "    \n",
    "omdb.search_movie('I care a lot')"
   ]
  },
  {
   "cell_type": "markdown",
   "metadata": {},
   "source": [
    "Below is the code for '.search_series()', this function searches through the server and returns information of a series. In order to run, it requires the title of the series."
   ]
  },
  {
   "cell_type": "code",
   "execution_count": 5,
   "metadata": {},
   "outputs": [
    {
     "data": {
      "text/plain": [
       "[{'title': 'Mr. Merlin',\n",
       "  'year': '1981–1982',\n",
       "  'imdb_id': 'tt0081903',\n",
       "  'type': 'series',\n",
       "  'poster': 'https://m.media-amazon.com/images/M/MV5BOTQwZTM2OTEtNTc3Zi00NDBmLWIxOTItZTNhYzJiNGM2ZmIyXkEyXkFqcGdeQXVyNjExODE1MDc@._V1_SX300.jpg'}]"
      ]
     },
     "execution_count": 5,
     "metadata": {},
     "output_type": "execute_result"
    }
   ],
   "source": [
    "import omdb\n",
    "try:\n",
    "    omdb.set_default('apikey', '8d75ab28')\n",
    "except:\n",
    "    print(\"Error: invalid API key\")\n",
    "    \n",
    "omdb.search_series('Mr. Merlin')"
   ]
  },
  {
   "cell_type": "markdown",
   "metadata": {},
   "source": [
    "Below is the code for '.search()', this function searches through the server and returns information of any title that matches the user's request. In order to run, it requires any movie or series title. This can be seen when the below code is run, as it returns both movies and a series."
   ]
  },
  {
   "cell_type": "code",
   "execution_count": 6,
   "metadata": {},
   "outputs": [
    {
     "data": {
      "text/plain": [
       "[{'title': 'How I Met Your Mother',\n",
       "  'year': '2005–2014',\n",
       "  'imdb_id': 'tt0460649',\n",
       "  'type': 'series',\n",
       "  'poster': 'https://m.media-amazon.com/images/M/MV5BNjg1MDQ5MjQ2N15BMl5BanBnXkFtZTYwNjI5NjA3._V1_SX300.jpg'},\n",
       " {'title': 'Goodbye How I Met Your Mother',\n",
       "  'year': '2014',\n",
       "  'imdb_id': 'tt3851610',\n",
       "  'type': 'movie',\n",
       "  'poster': 'N/A'},\n",
       " {'title': 'BYN: How I Met Your Mother',\n",
       "  'year': '2016',\n",
       "  'imdb_id': 'tt11489200',\n",
       "  'type': 'movie',\n",
       "  'poster': 'N/A'},\n",
       " {'title': 'How I Met Your Puppet Mother',\n",
       "  'year': '2013',\n",
       "  'imdb_id': 'tt3387902',\n",
       "  'type': 'movie',\n",
       "  'poster': 'N/A'}]"
      ]
     },
     "execution_count": 6,
     "metadata": {},
     "output_type": "execute_result"
    }
   ],
   "source": [
    "import omdb\n",
    "try:\n",
    "    omdb.set_default('apikey', '8d75ab28')\n",
    "except:\n",
    "    print(\"Error: invalid API key\")\n",
    "    \n",
    "omdb.search('How I met your mother')"
   ]
  },
  {
   "cell_type": "markdown",
   "metadata": {},
   "source": [
    "Below is the code for '.imdbid()', this function searches through the server and returns information of any title that matches IMDB ID given by the user. In order to run, it requires the title's IMDB ID and will therefore always only return one title. The function '.imdbid()' returns more information than any other searching functions, this is why I use this in my program, even when the user searches by title. I do this by searching for the title and then storing the IMDB ID stored under the title information, I then use the ID to search for more information. The data returned by the program can therefore be consistent and have the maximum amount of information for the user."
   ]
  },
  {
   "cell_type": "code",
   "execution_count": 8,
   "metadata": {},
   "outputs": [
    {
     "data": {
      "text/plain": [
       "{'title': 'Goodbye How I Met Your Mother',\n",
       " 'year': '2014',\n",
       " 'rated': 'N/A',\n",
       " 'released': '17 Jul 2014',\n",
       " 'runtime': '23 min',\n",
       " 'genre': 'Documentary',\n",
       " 'director': 'Alice Huzar',\n",
       " 'writer': 'N/A',\n",
       " 'actors': 'David E. Baker, Will Best, Laura Bell Bundy, Anne Dudek',\n",
       " 'plot': 'N/A',\n",
       " 'language': 'English',\n",
       " 'country': 'UK',\n",
       " 'awards': 'N/A',\n",
       " 'poster': 'N/A',\n",
       " 'ratings': [{'source': 'Internet Movie Database', 'value': '5.5/10'}],\n",
       " 'metascore': 'N/A',\n",
       " 'imdb_rating': '5.5',\n",
       " 'imdb_votes': '11',\n",
       " 'imdb_id': 'tt3851610',\n",
       " 'type': 'movie',\n",
       " 'dvd': 'N/A',\n",
       " 'box_office': 'N/A',\n",
       " 'production': 'N/A',\n",
       " 'website': 'N/A',\n",
       " 'response': 'True'}"
      ]
     },
     "execution_count": 8,
     "metadata": {},
     "output_type": "execute_result"
    }
   ],
   "source": [
    "import omdb\n",
    "try:\n",
    "    omdb.set_default('apikey', '8d75ab28')\n",
    "except:\n",
    "    print(\"Error: invalid API key\")\n",
    "    \n",
    "omdb.imdbid('tt3851610')"
   ]
  },
  {
   "cell_type": "markdown",
   "metadata": {},
   "source": [
    "## Section A: Main code"
   ]
  },
  {
   "cell_type": "markdown",
   "metadata": {},
   "source": [
    "Below is Section A of the project, which is the main code of the program. I have left 'history.txt' with one example so that the 'old()' function's functionality can be displayed on the program's first run and to display the typical output that will be saved in the text file."
   ]
  },
  {
   "cell_type": "code",
   "execution_count": 1,
   "metadata": {},
   "outputs": [
    {
     "name": "stdout",
     "output_type": "stream",
     "text": [
      "Requirement already satisfied: pip in c:\\users\\sarah\\anaconda3\\lib\\site-packages (21.1.2)\n",
      "Requirement already satisfied: omdb in c:\\users\\sarah\\anaconda3\\lib\\site-packages (0.10.1)\n",
      "Requirement already satisfied: requests>=2.0.1 in c:\\users\\sarah\\anaconda3\\lib\\site-packages (from omdb) (2.24.0)\n",
      "Requirement already satisfied: urllib3!=1.25.0,!=1.25.1,<1.26,>=1.21.1 in c:\\users\\sarah\\anaconda3\\lib\\site-packages (from requests>=2.0.1->omdb) (1.25.11)\n",
      "Requirement already satisfied: idna<3,>=2.5 in c:\\users\\sarah\\anaconda3\\lib\\site-packages (from requests>=2.0.1->omdb) (2.10)\n",
      "Requirement already satisfied: chardet<4,>=3.0.2 in c:\\users\\sarah\\anaconda3\\lib\\site-packages (from requests>=2.0.1->omdb) (3.0.4)\n",
      "Requirement already satisfied: certifi>=2017.4.17 in c:\\users\\sarah\\anaconda3\\lib\\site-packages (from requests>=2.0.1->omdb) (2020.6.20)\n"
     ]
    }
   ],
   "source": [
    "import sys\n",
    "\n",
    "!{sys.executable} -m pip install --upgrade pip\n",
    "!{sys.executable} -m pip install omdb"
   ]
  },
  {
   "cell_type": "code",
   "execution_count": 1,
   "metadata": {},
   "outputs": [
    {
     "name": "stdout",
     "output_type": "stream",
     "text": [
      "Welcome to Movie Search!\n",
      "Here are your previous searches:\n",
      "That '70s Show\n",
      "\n",
      "Would you like to search for a new title or one that you have previously searched? State: New or Oldold\n",
      "\n",
      "Please select the number of the Title that you would like to review:\n",
      "1: That '70s Show\n",
      "\n",
      "Which number would you like to view?1\n",
      "Title: That '70s Show\n",
      "\n",
      "Release date: 23 Aug 1998\n",
      "\n",
      "Type: Series\n",
      "\n",
      "Language: English\n",
      "\n",
      "Director/s: N/A\n",
      "\n",
      "Actors: Mila Kunis, Danny Masterson, Laura Prepon, Wilmer Valderrama\n",
      "\n",
      "Runtime: 22 min\n",
      "\n",
      "IMDB ID number: tt0165598\n",
      "\n",
      "Awards: Won 1 Primetime Emmy. Another 14 wins & 77 nominations.\n",
      "\n",
      "Internet Movie Database: 8.0/10\n",
      "\n",
      "Metascore: N/A\n",
      "\n",
      "IMDB Votes: 156,100\n",
      "\n",
      "User rating: 9/10\n",
      "\n",
      "User review: Amazingly funny\n",
      "\n",
      "Would you like to search again? Yes/Nono\n",
      "Thank you for using Movie Search!\n"
     ]
    }
   ],
   "source": [
    "import omdb\n",
    "import re\n",
    "import urllib.request\n",
    "\n",
    "try:\n",
    "    omdb.set_default('apikey', '8d75ab28')\n",
    "except:\n",
    "    print(\"Error: invalid API key\")\n",
    "\n",
    "def welcome():\n",
    "    selec = \"\"\n",
    "    con = 0\n",
    "    \n",
    "    print(\"Welcome to Movie Search!\")\n",
    "    print(\"Here are your previous searches:\")\n",
    "    try:\n",
    "        old_file = open('history.txt', 'r')  #opening the text file under read\n",
    "    except:\n",
    "        print(\"File cannot be opened.\")  \n",
    "        \n",
    "    for d in old_file:\n",
    "        con += 1\n",
    "        x = re.findall('^Title:.*', d)  #using regular expressions to find all lines that start with 'Title:'\n",
    "        if len(x) > 0:  #if there are lines which start with 'Title:'\n",
    "            for g in x:\n",
    "                pos = d.find(':') + 2   \n",
    "                print(d[pos:])  #print the titles of each saved selection\n",
    "        else:\n",
    "            continue\n",
    "    old_file.close()\n",
    "    \n",
    "    selec = input(\"Would you like to search for a new title or one that you have previously searched? State: New or Old\")\n",
    "    print(\"\")\n",
    "    \n",
    "    if selec.lower() == 'new':   #selecting to search through history or the IMDB server\n",
    "        new()     \n",
    "    elif selec.lower() == 'old':\n",
    "        if con > 1:   #checking that the text file does have previous selections saved\n",
    "            old()\n",
    "            again()\n",
    "        else:\n",
    "            print(\"There is no previous search history, please select new.\")\n",
    "            welcome()\n",
    "    else:\n",
    "        print(\"Please input New or Old\")\n",
    "        welcome()   \n",
    "\n",
    "def new():\n",
    "    old_file = open('history.txt', 'r')\n",
    "    choice = ''\n",
    "    movie = False\n",
    "    series = False\n",
    "    \n",
    "    print(\"You can search for movies on our database by inputting the information that you know\")\n",
    "    print(\"You can select between the title, IMDB ID, movie titles, series titles or episode titles\")\n",
    "    print(\"Simply say Title, ID, Movie, or Series to make your choice:\")\n",
    "    choice = input(\"What would you like to search from?\")\n",
    "    if choice.lower() == 'title':    #choosing searching technique\n",
    "        ti_tle('title', awar(), rat(), series, movie, old_file)\n",
    "    elif choice.lower() == 'id' or choice.lower() == 'imdb id' or choice.lower() == 'imdb':\n",
    "        i_d('id', awar(), rat(), old_file)\n",
    "    elif choice.lower() == 'movie':\n",
    "        movie = True\n",
    "        ti_tle('title', awar(), rat(), series, movie, old_file)\n",
    "    elif choice.lower() == 'series':\n",
    "        series = True\n",
    "        ti_tle('title', awar(), rat(), series, movie, old_file)\n",
    "    else:\n",
    "        print(\"Please choose between the title, IMDB ID, movie titles, series titles\")\n",
    "        new()\n",
    "\n",
    "def old():\n",
    "    old_file = open('history.txt', 'r')\n",
    "    co = 0\n",
    "    lnes = []\n",
    "    count = 0\n",
    "    pos = 0\n",
    "    inpu = int()\n",
    "\n",
    "    print(\"Please select the number of the Title that you would like to review:\")\n",
    "    for l in old_file:\n",
    "        if re.search('Title:', l):  #searching for selection titles in history.txt and writing them to a list (lnes[])\n",
    "            pos = l.find(':') + 2\n",
    "            lnes.append(l[pos:])\n",
    "            count += 1\n",
    "            print(str(count) + \": \" + l[pos:])  #printing the options and corresponding number in lnes[]\n",
    "        else: \n",
    "            continue\n",
    "    try:        \n",
    "        inpu = int(input(\"Which number would you like to view?\"))\n",
    "    except:\n",
    "        old()\n",
    "            \n",
    "    try:\n",
    "        old_file = open('history.txt', 'r')\n",
    "        lt = old_file.readlines()\n",
    "    except:\n",
    "        print(\"File could not be opened\")\n",
    "\n",
    "    if inpu <= len(lnes):\n",
    "        for h in range(0, len(lt)):\n",
    "            s = lt[h]\n",
    "            if lnes[inpu-1] in s:  #searching for choice title in history.txt\n",
    "                for c in range(1, len(lt)+2):   #second loop to split choice from the rest of history.txt\n",
    "                    try:\n",
    "                        if re.search('^\\s*$', lt[c]) or re.search('Title:', lt[c]):\n",
    "                            break\n",
    "                        else:\n",
    "                            try:\n",
    "                                print(lt[h])  #prints information from history.txt\n",
    "                                h += 1\n",
    "                            except:\n",
    "                                continue\n",
    "                    except:\n",
    "                        break\n",
    "        print(lt[h])\n",
    "                    \n",
    "    else:\n",
    "        print(\"Please select the number of the Title that you would like to review:\")\n",
    "        old()\n",
    "                        \n",
    "def awar():\n",
    "    aw = False\n",
    "    inp = input(\"Would you like to know the awards your selection has won?\")  #asking if the user wants to see the awards\n",
    "    if inp.lower() == 'yes':\n",
    "        aw = True\n",
    "    elif inp.lower() == 'no':\n",
    "        aw = False\n",
    "    else:\n",
    "        print(\"Please input Yes or No\")\n",
    "        awar()\n",
    "    \n",
    "    return aw  #if yes, the function returns True and if no, the function returns False\n",
    "\n",
    "def rat():\n",
    "    rati = False\n",
    "    inp = input(\"Would you like to know the rating of your selection?\")  #asking if the user wants to see the ratings\n",
    "    if inp.lower() == 'yes':\n",
    "        rati = True\n",
    "    elif inp.lower() == 'no':\n",
    "        rati = False\n",
    "    else:\n",
    "        print(\"Please input Yes or No\")\n",
    "        rat()\n",
    "    \n",
    "    return rati  #if yes, the function returns True, and if no, the function returns False\n",
    "\n",
    "def ti_tle(choice, award, rating, series, movie, old_file):  #search by title\n",
    "    options = dict()\n",
    "    idd = dict()\n",
    "    \n",
    "    select = input(\"What would you like to search for in the \" + choice + \" category?\")\n",
    "    temp = dict()\n",
    "    store = []\n",
    "    \n",
    "    try:\n",
    "        if movie == True:\n",
    "            is_there = omdb.search_movie(select)  #searching by user's required function\n",
    "        elif series == True:\n",
    "            is_there = omdb.search_series(select)\n",
    "        else:\n",
    "            is_there = omdb.search(select)\n",
    "    except:\n",
    "        print(\"Error: search type is invalid\")\n",
    "\n",
    "    try:\n",
    "        if len(is_there) > 1:\n",
    "            print(\"\")\n",
    "            print(\"There seems to be more than one movie under your choice, choose which one you would like to observe:\")\n",
    "            print(\"Select 0 if you would like to go back\")\n",
    "            for i in range(0, len(is_there)):   #more than one options for user's choice \n",
    "                temp = is_there[i]  #list all options so that user can choose the correct one\n",
    "                store.append(temp['title'])\n",
    "                print(str(i+1) + \": \" + store[i] + \" - \" + temp['year'])\n",
    " \n",
    "            try:\n",
    "                try:\n",
    "                    final_m = int(input(\"Enter the number of the movie you would like to select\"))   # final choice\n",
    "                except:\n",
    "                    print(\"Please enter a number\")\n",
    "                    ti_tle('title', awar(), rat(), series, movie, old_file)\n",
    "                    \n",
    "                if final_m == 0:\n",
    "                    ti_tle(choice, award, rating, series, episode, movie, old_file)\n",
    "                elif final_m in range(0, len(is_there)+1):\n",
    "                    options = is_there[final_m-1]   #dictionary 'options' is the user's selction from the choices\n",
    "                    idd = options['imdb_id']   #finding the selection's IMDB ID so that the ratings and awards can be accessed\n",
    "                    prnt(omdb.imdbid(idd), award, rating, old_file)\n",
    "                else:\n",
    "                    print(\"Please enter the number of the movie you would like to select\")\n",
    "                    ti_tle(choice, award, rating, series, episode, movie, old_file)\n",
    "            except:\n",
    "                print(\"Please input the number of the movie you would like to select\")\n",
    "                ti_tle(choice, award, rating, series, episode, movie, old_file)\n",
    "\n",
    "        elif len(is_there) == 1:   #only one movie exists\n",
    "            options = is_there[0]   #dictionary 'options' is the user's selction from the choices\n",
    "            idd = options['imdb_id']   #finding the selection's IMDB ID so that the ratings and awards can be accessed\n",
    "            prnt(omdb.imdbid(idd), award, rating, old_file)  #calling the 'prnt()' function and giving the selction's ID\n",
    "\n",
    "        else:\n",
    "            print(\"Selection does not exist\")\n",
    "            ti_tle(choice, award, rating, series, movie, old_file)\n",
    "\n",
    "    except:\n",
    "        print(\"Error: is_there is not valid\")\n",
    "        ti_tle(choice, award, rating, series, movie, old_file)\n",
    "            \n",
    "def i_d(choice, award, rating, old_file):   # search by IMDB ID\n",
    "    select = input(\"What would you like to search for in the \" + choice + \" category?\")\n",
    "    try:\n",
    "        is_there = omdb.imdbid(select)   #fetching all information for the IMDB ID given\n",
    "        prnt(is_there, award, rating, old_file)\n",
    "    except:\n",
    "        print(\"IMDB ID does not exist\")\n",
    "        new()\n",
    "            \n",
    "def prnt(temp, award, rating, old_file):\n",
    "    rate = temp['ratings']\n",
    "    te = dict()\n",
    "    old_file = open('history.txt', 'a+')\n",
    "    rec = ''\n",
    "    \n",
    "    print(\"\")\n",
    "    print(\"Here is the information for your choice:\")   #printing information for user's choice\n",
    "    print(\"Title: \" + temp['title'])\n",
    "    old_file.write(\"Title: \" + temp['title'] + '\\n')\n",
    "    print(\"Release date: \" + temp['released'])\n",
    "    old_file.write(\"Release date: \" + temp['released']+ '\\n')  #writing information to text file so that it can be accessed later\n",
    "    print(\"Type: \" + temp['type'].capitalize())\n",
    "    old_file.write(\"Type: \" + temp['type'].capitalize()+ '\\n')\n",
    "    print(\"Language: \" + temp['language'].capitalize())\n",
    "    old_file.write(\"Language: \" + temp['language'].capitalize()+ '\\n')\n",
    "    print(\"Director/s: \" + temp['director'])\n",
    "    old_file.write(\"Director/s: \" + temp['director']+ '\\n')\n",
    "    print(\"Actors: \" + temp['actors'])\n",
    "    old_file.write(\"Actors: \" + temp['actors']+ '\\n')\n",
    "    print(\"Runtime: \" + temp['runtime'])\n",
    "    old_file.write(\"Runtime: \" + temp['runtime']+ '\\n')\n",
    "    print(\"IMDB ID number: \" + temp['imdb_id'])\n",
    "    old_file.write(\"IMDB ID number: \" + temp['imdb_id']+ '\\n')\n",
    "    \n",
    "    if award == True:  #print awards won if the user answered Yes\n",
    "        try:\n",
    "            print(\"\")\n",
    "            print(\"Awards: \" + temp['awards'])\n",
    "            old_file.write(\"Awards: \" + temp['awards']+ '\\n')\n",
    "        except:\n",
    "            print(\"No awards have been won\")\n",
    "            \n",
    "    if rating == True:  #print ratings if the user answered Yes\n",
    "        print(\"\")\n",
    "        print(\"Here are \" + temp['title'] + \"s ratings:\")\n",
    "        for j in range(0, len(temp['ratings'])):\n",
    "            te = rate[j]\n",
    "            print(te['source'] + \": \" + te['value'])\n",
    "            old_file.write(te['source'] + \": \" + te['value']+ '\\n')\n",
    "        print(\"Metascore: \" + temp['metascore'])\n",
    "        old_file.write(\"Metascore: \" + temp['metascore']+ '\\n')\n",
    "        print(\"IMDB Votes: \" + temp['imdb_votes'])\n",
    "        old_file.write(\"IMDB Votes: \" + temp['imdb_votes']+ '\\n')\n",
    "    \n",
    "    post(temp['poster'])\n",
    "    old_file.close()\n",
    "    review()\n",
    "    old_file.close()\n",
    "    again()\n",
    "\n",
    "def review():  #user's individual review\n",
    "    ip = \"\"\n",
    "    \n",
    "    old_file = open('history.txt', 'a+')\n",
    "    \n",
    "    ip = input(\"Have you seen this? Yes/No\")\n",
    "    if ip.lower() == \"yes\":\n",
    "        ip = input(\"Would you like to leave a review? Yes/No\")\n",
    "        if ip.lower() == \"yes\":\n",
    "            try:\n",
    "                i = int(input(\"Please input your rating out of 10 here:\"))  #integer rating of 1-10\n",
    "            except:\n",
    "                print(\"Please input a number between 0 and 10\")\n",
    "                review()\n",
    "            if i >= 0 and i <= 10:\n",
    "                old_file.write(\"User rating: \" + str(i) + \"/10\" + '\\n')\n",
    "            else:\n",
    "                print(\"Please input a number between 0 and 10\")\n",
    "                review()\n",
    "            try:\n",
    "                ip = input(\"Please leave your review here:\")\n",
    "            except:\n",
    "                print(\"Please input a brief sentence for your review\")  #string review of user's thoughts\n",
    "                review()\n",
    "            if len(ip) > 2:\n",
    "                old_file.write(\"User review: \" + ip + '\\n')\n",
    "                old_file.close()\n",
    "            else:\n",
    "                print(\"Please input a brief sentence for your review\")\n",
    "                review()\n",
    "        elif ip.lower == \"no\":\n",
    "            old_file.close()\n",
    "            return\n",
    "        else:\n",
    "            print(\"Please indicate Yes or No\")\n",
    "            review()\n",
    "    elif ip.lower() == \"no\":\n",
    "        old_file.close()\n",
    "        return\n",
    "    else:\n",
    "        print(\"Please indicate Yes or No\")\n",
    "        review()\n",
    "\n",
    "def again():\n",
    "    ip = input(\"Would you like to search again? Yes/No\")  # quitting Movie search or starting program from scratch\n",
    "    if ip.lower() == \"yes\":\n",
    "        welcome()\n",
    "    elif ip.lower() == \"no\":\n",
    "        print(\"Thank you for using Movie Search!\")\n",
    "        \n",
    "def post(ur):  #receives URL of the movie poster\n",
    "    urllib.request.urlretrieve(ur, \"moviesearch.jpg\")  #saving poster of title to 'moviesearch.jpg'\n",
    "    print(\"Don't forget to check your files for the poster!\")  #code rewrites over the current jpg file\n",
    "        \n",
    "welcome()"
   ]
  },
  {
   "cell_type": "markdown",
   "metadata": {},
   "source": [
    "## In retrospect:"
   ]
  },
  {
   "cell_type": "markdown",
   "metadata": {},
   "source": [
    "After reviewing the program and finishing section B there are a few experiences that I will use in future projects. The first is that I did not trust myself enough. I found that in some unfamiliar sections (like the posters) I overcomplicated it and wasted a lot of time searching through different sources, only to come up to a very simple piece of code which (in some cases) I could've thought of myself.\n",
    "\n",
    "The second is that I found that I wasted a lot of time not having a plan for the program which I had written down. While I had an idea of how I wanted it to look and the program's functionality, I think that if I had written it down and planned how my functions interacted with eachother, it would have saved me a lot of time which I could've used on other parts of my program. I also found that because I didn't write my plan down I ran away with ideas and didn't focus on the key points of my program (like error prevention) which I had to come to at the end of my prorgamming. This added extra time onto my project which was not necessary."
   ]
  },
  {
   "cell_type": "markdown",
   "metadata": {},
   "source": [
    "### Problems I encountered: "
   ]
  },
  {
   "cell_type": "markdown",
   "metadata": {},
   "source": [
    "One problem I encountered in my project was using these different titles to fetch the same information, as obtaining information from the IMDB key and names fetched different results. This sacrifices the program's consistency. The code inserted below is my solution to this problem. If the user chose an IMDB key to search for the movie then the data was fecthed and printed, as I made the information given by the IMDB key the set information that one should expect to obtain. When the user chose to search by title, I used the name (and the user's specific choice when needed) to obtain the IMDB key and then used that key to fetch the information of the title for that user. This allowed for consistent data to be fetched by the program."
   ]
  },
  {
   "cell_type": "code",
   "execution_count": null,
   "metadata": {},
   "outputs": [],
   "source": [
    "idd = options['imdb_id']   #finding the selection's IMDB ID so that the ratings and awards can be accessed\n",
    "prnt(omdb.imdbid(idd), award, rating, old_file)  #calling the 'prnt()' function and giving the selection's ID"
   ]
  },
  {
   "cell_type": "markdown",
   "metadata": {},
   "source": [
    "Another problem that I encountered was error prevention, this was mostly in the form of spotting integer or string usage when there was not meant to be. I initially tried if statements with the conversion of user inputs into the correct variable type, however this threw multiple errors. I later realised that the errors came from me assuming that converting the input into the variable type will easily alert me to errors in the input, instead this threw exception errors in other areas of my code (specifically the excpetion in 'ti_tle()' called \"Error: is_there is not valid). I also tried to use '.isdigit()' and '.isalpha' as conditionals in if statements (as shown below), however I found that the best solution was by using a mixture of try/except and if/else statements. This final solution allowed me to specify what I wanted to enter the conditional if statement and catch any exceptions using the try statement which surrounded the if/else."
   ]
  },
  {
   "cell_type": "code",
   "execution_count": null,
   "metadata": {},
   "outputs": [],
   "source": [
    "#exerpt from OLD code in 'ti_tle()'\n",
    "if final_m.isdigit():\n",
    "    if final_m == 0:\n",
    "        ti_tle()\n",
    "    else:\n",
    "        options = is_there[final_m-1]   #dictionary 'options' is the user's selction from the choices\n",
    "        idd = options['imdb_id']   #finding the selection's IMDB ID so that the ratings and awards can be accessed\n",
    "        prnt(omdb.imdbid(idd), award, rating, old_file)\n",
    "else:\n",
    "    print(\"Please input the number of the movie you would like to select\")\n",
    "    ti_tle()\n",
    "    \n",
    "#exerpt from FINAL code in 'ti_tle()'\n",
    "try:\n",
    "    final_m = int(input(\"Enter the number of the movie you would like to select\"))   # final choice\n",
    "    if final_m == 0:\n",
    "        ti_tle(choice, award, rating, series, episode, movie, old_file)\n",
    "    elif final_m in range(0, len(is_there)+1):"
   ]
  },
  {
   "cell_type": "markdown",
   "metadata": {},
   "source": [
    "Another problem that I struggled with was saving the movie posters from the URL given by the server. Once downloaded, I could not open the jpg file on my laptop as it was not saving the image. The jpg file was created, however only stored 1KB of data. After research I found a piece of code from 'urllib.request', which uses URLLIB to retrieve the image from the URL given in its parameters. This was a lot simpler than I had originally expected and allows me to write over the jpg file when a new search is performed."
   ]
  },
  {
   "cell_type": "code",
   "execution_count": null,
   "metadata": {},
   "outputs": [],
   "source": [
    "urllib.request.urlretrieve(ur, \"moviesearch.jpg\") # (URL, picture name)"
   ]
  },
  {
   "cell_type": "markdown",
   "metadata": {},
   "source": [
    "### Potential improvements:"
   ]
  },
  {
   "cell_type": "markdown",
   "metadata": {},
   "source": [
    "What I would like to improve on in the future is creating a basis function that just contains the functions necessary for the program to operate instead of the functions being called in different operating functions. I.E. increase the level of object oriented programming to my Movie Selection program. This will allow for easier readability and to assess where problems of syntax in the code are occuring. It is also helpful to and acts as a step-by-step guide for the program. I attempted to do this in 'prnt()', however too many functions needed to be called in different places. With more planning I believe that I would be able to properly implement this into my program\n",
    "\n",
    "I would also like to make my program more dynamic by giving the user the ability to go back and change their previous decisions. I implemented this in the 'ti_tle()' function but found it more difficult to implement in other areas of my code. This functionality will help to make my program more user friendly and allow for error corections (eg: choosing to search by the wrong item) to be made by the user, instead of having to quit the program and restart.\n",
    "\n",
    "Another improvement would be with the implementation of a GUI which will make the program more presentable and user friendly. The GUI can also allow for the movie poster to be displayed next to the information of the movie so that the user can see the poster and not have to do any more work and be inconvenieced by accessing the poster after reading the information.\n",
    "\n",
    "Without implementing GUI, the output of the program could be neatened and headings made more noticeable in order to increase readability. "
   ]
  }
 ],
 "metadata": {
  "kernelspec": {
   "display_name": "Python 3",
   "language": "python",
   "name": "python3"
  },
  "language_info": {
   "codemirror_mode": {
    "name": "ipython",
    "version": 3
   },
   "file_extension": ".py",
   "mimetype": "text/x-python",
   "name": "python",
   "nbconvert_exporter": "python",
   "pygments_lexer": "ipython3",
   "version": "3.8.5"
  }
 },
 "nbformat": 4,
 "nbformat_minor": 4
}
